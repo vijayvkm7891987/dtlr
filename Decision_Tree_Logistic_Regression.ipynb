{
 "cells": [
  {
   "cell_type": "code",
   "execution_count": 1,
   "metadata": {},
   "outputs": [],
   "source": [
    "#Date: 26/06/2021\n",
    "#Author: Vijay Kumar Mishra\n",
    "#Task: Illustration of Decision Tree in Logistic Regression\n",
    "#Data: National Family Health Survey (NFHS)"
   ]
  },
  {
   "cell_type": "code",
   "execution_count": 2,
   "metadata": {},
   "outputs": [],
   "source": [
    "# load some required packages used for data mining and related aspects\n",
    "import numpy as np\n",
    "import pandas as pd\n",
    "from pandas import Series, DataFrame\n",
    "import pyreadstat\n",
    "import seaborn as sns\n",
    "import matplotlib.pyplot as pit\n",
    "from matplotlib.ticker import NullFormatter\n",
    "import matplotlib.ticker as ticker\n",
    "import itertools\n",
    "from sklearn import preprocessing\n",
    "%matplotlib inline"
   ]
  },
  {
   "cell_type": "code",
   "execution_count": 3,
   "metadata": {},
   "outputs": [],
   "source": [
    "vkm_nfh= '~/Desktop/vkm/IAIR74FL_pw.dta'"
   ]
  },
  {
   "cell_type": "code",
   "execution_count": 5,
   "metadata": {},
   "outputs": [],
   "source": [
    "vkm_fhs, meta=pyreadstat.read_dta(\"IAIR74FL_pw.dta\", apply_value_formats=True)"
   ]
  },
  {
   "cell_type": "code",
   "execution_count": 6,
   "metadata": {},
   "outputs": [
    {
     "data": {
      "text/html": [
       "<div>\n",
       "<style scoped>\n",
       "    .dataframe tbody tr th:only-of-type {\n",
       "        vertical-align: middle;\n",
       "    }\n",
       "\n",
       "    .dataframe tbody tr th {\n",
       "        vertical-align: top;\n",
       "    }\n",
       "\n",
       "    .dataframe thead th {\n",
       "        text-align: right;\n",
       "    }\n",
       "</style>\n",
       "<table border=\"1\" class=\"dataframe\">\n",
       "  <thead>\n",
       "    <tr style=\"text-align: right;\">\n",
       "      <th></th>\n",
       "      <th>caseid</th>\n",
       "      <th>v000</th>\n",
       "      <th>v001</th>\n",
       "      <th>v002</th>\n",
       "      <th>v003</th>\n",
       "      <th>v004</th>\n",
       "      <th>v005</th>\n",
       "      <th>v006</th>\n",
       "      <th>v007</th>\n",
       "      <th>v008</th>\n",
       "      <th>...</th>\n",
       "      <th>v159</th>\n",
       "      <th>v190</th>\n",
       "      <th>v213</th>\n",
       "      <th>v463c</th>\n",
       "      <th>v463f</th>\n",
       "      <th>v463g</th>\n",
       "      <th>v463z</th>\n",
       "      <th>s710c</th>\n",
       "      <th>s710e</th>\n",
       "      <th>s712</th>\n",
       "    </tr>\n",
       "  </thead>\n",
       "  <tbody>\n",
       "    <tr>\n",
       "      <th>0</th>\n",
       "      <td>01000445    08</td>\n",
       "      <td>IA6</td>\n",
       "      <td>10004</td>\n",
       "      <td>45</td>\n",
       "      <td>8</td>\n",
       "      <td>4</td>\n",
       "      <td>22873</td>\n",
       "      <td>6</td>\n",
       "      <td>2015</td>\n",
       "      <td>1386</td>\n",
       "      <td>...</td>\n",
       "      <td>less than once a week</td>\n",
       "      <td>middle</td>\n",
       "      <td>yes</td>\n",
       "      <td>no</td>\n",
       "      <td>no</td>\n",
       "      <td>yes</td>\n",
       "      <td>no</td>\n",
       "      <td>no</td>\n",
       "      <td>no</td>\n",
       "      <td>no</td>\n",
       "    </tr>\n",
       "    <tr>\n",
       "      <th>1</th>\n",
       "      <td>01000671    02</td>\n",
       "      <td>IA6</td>\n",
       "      <td>10006</td>\n",
       "      <td>71</td>\n",
       "      <td>2</td>\n",
       "      <td>6</td>\n",
       "      <td>24436</td>\n",
       "      <td>4</td>\n",
       "      <td>2015</td>\n",
       "      <td>1384</td>\n",
       "      <td>...</td>\n",
       "      <td>not at all</td>\n",
       "      <td>poorer</td>\n",
       "      <td>yes</td>\n",
       "      <td>no</td>\n",
       "      <td>no</td>\n",
       "      <td>yes</td>\n",
       "      <td>no</td>\n",
       "      <td>no</td>\n",
       "      <td>no</td>\n",
       "      <td>yes</td>\n",
       "    </tr>\n",
       "    <tr>\n",
       "      <th>2</th>\n",
       "      <td>01000683    02</td>\n",
       "      <td>IA6</td>\n",
       "      <td>10006</td>\n",
       "      <td>83</td>\n",
       "      <td>2</td>\n",
       "      <td>6</td>\n",
       "      <td>24436</td>\n",
       "      <td>4</td>\n",
       "      <td>2015</td>\n",
       "      <td>1384</td>\n",
       "      <td>...</td>\n",
       "      <td>almost every day</td>\n",
       "      <td>richer</td>\n",
       "      <td>yes</td>\n",
       "      <td>no</td>\n",
       "      <td>no</td>\n",
       "      <td>no</td>\n",
       "      <td>yes, smokes nothing</td>\n",
       "      <td>no</td>\n",
       "      <td>no</td>\n",
       "      <td>NaN</td>\n",
       "    </tr>\n",
       "    <tr>\n",
       "      <th>3</th>\n",
       "      <td>01000702    02</td>\n",
       "      <td>IA6</td>\n",
       "      <td>10007</td>\n",
       "      <td>2</td>\n",
       "      <td>2</td>\n",
       "      <td>7</td>\n",
       "      <td>1204</td>\n",
       "      <td>4</td>\n",
       "      <td>2015</td>\n",
       "      <td>1384</td>\n",
       "      <td>...</td>\n",
       "      <td>at least once a week</td>\n",
       "      <td>richest</td>\n",
       "      <td>yes</td>\n",
       "      <td>no</td>\n",
       "      <td>no</td>\n",
       "      <td>no</td>\n",
       "      <td>yes, smokes nothing</td>\n",
       "      <td>no</td>\n",
       "      <td>no</td>\n",
       "      <td>NaN</td>\n",
       "    </tr>\n",
       "    <tr>\n",
       "      <th>4</th>\n",
       "      <td>01000723    02</td>\n",
       "      <td>IA6</td>\n",
       "      <td>10007</td>\n",
       "      <td>23</td>\n",
       "      <td>2</td>\n",
       "      <td>7</td>\n",
       "      <td>1204</td>\n",
       "      <td>5</td>\n",
       "      <td>2015</td>\n",
       "      <td>1385</td>\n",
       "      <td>...</td>\n",
       "      <td>less than once a week</td>\n",
       "      <td>poorer</td>\n",
       "      <td>yes</td>\n",
       "      <td>no</td>\n",
       "      <td>no</td>\n",
       "      <td>no</td>\n",
       "      <td>yes, smokes nothing</td>\n",
       "      <td>no</td>\n",
       "      <td>no</td>\n",
       "      <td>NaN</td>\n",
       "    </tr>\n",
       "  </tbody>\n",
       "</table>\n",
       "<p>5 rows × 33 columns</p>\n",
       "</div>"
      ],
      "text/plain": [
       "            caseid v000   v001  v002  v003  v004   v005  v006  v007  v008  \\\n",
       "0   01000445    08  IA6  10004    45     8     4  22873     6  2015  1386   \n",
       "1   01000671    02  IA6  10006    71     2     6  24436     4  2015  1384   \n",
       "2   01000683    02  IA6  10006    83     2     6  24436     4  2015  1384   \n",
       "3   01000702    02  IA6  10007     2     2     7   1204     4  2015  1384   \n",
       "4   01000723    02  IA6  10007    23     2     7   1204     5  2015  1385   \n",
       "\n",
       "   ...                   v159     v190  v213  v463c v463f v463g  \\\n",
       "0  ...  less than once a week   middle   yes     no    no   yes   \n",
       "1  ...             not at all   poorer   yes     no    no   yes   \n",
       "2  ...       almost every day   richer   yes     no    no    no   \n",
       "3  ...   at least once a week  richest   yes     no    no    no   \n",
       "4  ...  less than once a week   poorer   yes     no    no    no   \n",
       "\n",
       "                 v463z s710c s710e s712  \n",
       "0                   no    no    no   no  \n",
       "1                   no    no    no  yes  \n",
       "2  yes, smokes nothing    no    no  NaN  \n",
       "3  yes, smokes nothing    no    no  NaN  \n",
       "4  yes, smokes nothing    no    no  NaN  \n",
       "\n",
       "[5 rows x 33 columns]"
      ]
     },
     "execution_count": 6,
     "metadata": {},
     "output_type": "execute_result"
    }
   ],
   "source": [
    "vkm_fhs.head()"
   ]
  },
  {
   "cell_type": "code",
   "execution_count": 7,
   "metadata": {},
   "outputs": [
    {
     "data": {
      "text/html": [
       "<div>\n",
       "<style scoped>\n",
       "    .dataframe tbody tr th:only-of-type {\n",
       "        vertical-align: middle;\n",
       "    }\n",
       "\n",
       "    .dataframe tbody tr th {\n",
       "        vertical-align: top;\n",
       "    }\n",
       "\n",
       "    .dataframe thead th {\n",
       "        text-align: right;\n",
       "    }\n",
       "</style>\n",
       "<table border=\"1\" class=\"dataframe\">\n",
       "  <thead>\n",
       "    <tr style=\"text-align: right;\">\n",
       "      <th></th>\n",
       "      <th>count</th>\n",
       "      <th>mean</th>\n",
       "      <th>std</th>\n",
       "      <th>min</th>\n",
       "      <th>25%</th>\n",
       "      <th>50%</th>\n",
       "      <th>75%</th>\n",
       "      <th>max</th>\n",
       "    </tr>\n",
       "  </thead>\n",
       "  <tbody>\n",
       "    <tr>\n",
       "      <th>v001</th>\n",
       "      <td>32428.0</td>\n",
       "      <td>201979.690884</td>\n",
       "      <td>1.056895e+05</td>\n",
       "      <td>10004.0</td>\n",
       "      <td>120248.25</td>\n",
       "      <td>200047.0</td>\n",
       "      <td>310194.25</td>\n",
       "      <td>360477.0</td>\n",
       "    </tr>\n",
       "    <tr>\n",
       "      <th>v002</th>\n",
       "      <td>32428.0</td>\n",
       "      <td>50.251974</td>\n",
       "      <td>2.861007e+01</td>\n",
       "      <td>1.0</td>\n",
       "      <td>25.00</td>\n",
       "      <td>51.0</td>\n",
       "      <td>75.00</td>\n",
       "      <td>99.0</td>\n",
       "    </tr>\n",
       "    <tr>\n",
       "      <th>v003</th>\n",
       "      <td>32428.0</td>\n",
       "      <td>3.666091</td>\n",
       "      <td>2.291602e+00</td>\n",
       "      <td>1.0</td>\n",
       "      <td>2.00</td>\n",
       "      <td>3.0</td>\n",
       "      <td>4.00</td>\n",
       "      <td>37.0</td>\n",
       "    </tr>\n",
       "    <tr>\n",
       "      <th>v004</th>\n",
       "      <td>32428.0</td>\n",
       "      <td>1091.877883</td>\n",
       "      <td>1.280913e+03</td>\n",
       "      <td>1.0</td>\n",
       "      <td>311.00</td>\n",
       "      <td>669.0</td>\n",
       "      <td>1254.00</td>\n",
       "      <td>6305.0</td>\n",
       "    </tr>\n",
       "    <tr>\n",
       "      <th>v005</th>\n",
       "      <td>32428.0</td>\n",
       "      <td>959772.261934</td>\n",
       "      <td>1.052288e+06</td>\n",
       "      <td>782.0</td>\n",
       "      <td>392316.00</td>\n",
       "      <td>736465.0</td>\n",
       "      <td>1230434.00</td>\n",
       "      <td>44810725.0</td>\n",
       "    </tr>\n",
       "    <tr>\n",
       "      <th>v006</th>\n",
       "      <td>32428.0</td>\n",
       "      <td>4.887381</td>\n",
       "      <td>2.105131e+00</td>\n",
       "      <td>1.0</td>\n",
       "      <td>3.00</td>\n",
       "      <td>5.0</td>\n",
       "      <td>6.00</td>\n",
       "      <td>12.0</td>\n",
       "    </tr>\n",
       "    <tr>\n",
       "      <th>v007</th>\n",
       "      <td>32428.0</td>\n",
       "      <td>2015.479339</td>\n",
       "      <td>4.995806e-01</td>\n",
       "      <td>2015.0</td>\n",
       "      <td>2015.00</td>\n",
       "      <td>2015.0</td>\n",
       "      <td>2016.00</td>\n",
       "      <td>2016.0</td>\n",
       "    </tr>\n",
       "    <tr>\n",
       "      <th>v008</th>\n",
       "      <td>32428.0</td>\n",
       "      <td>1390.639447</td>\n",
       "      <td>6.211798e+00</td>\n",
       "      <td>1381.0</td>\n",
       "      <td>1385.00</td>\n",
       "      <td>1388.0</td>\n",
       "      <td>1396.00</td>\n",
       "      <td>1404.0</td>\n",
       "    </tr>\n",
       "    <tr>\n",
       "      <th>v009</th>\n",
       "      <td>32428.0</td>\n",
       "      <td>5.828235</td>\n",
       "      <td>3.273641e+00</td>\n",
       "      <td>1.0</td>\n",
       "      <td>3.00</td>\n",
       "      <td>6.0</td>\n",
       "      <td>8.00</td>\n",
       "      <td>12.0</td>\n",
       "    </tr>\n",
       "    <tr>\n",
       "      <th>v010</th>\n",
       "      <td>32428.0</td>\n",
       "      <td>1990.232053</td>\n",
       "      <td>4.862259e+00</td>\n",
       "      <td>1966.0</td>\n",
       "      <td>1988.00</td>\n",
       "      <td>1991.0</td>\n",
       "      <td>1994.00</td>\n",
       "      <td>2001.0</td>\n",
       "    </tr>\n",
       "    <tr>\n",
       "      <th>v011</th>\n",
       "      <td>32428.0</td>\n",
       "      <td>1088.612865</td>\n",
       "      <td>5.823103e+01</td>\n",
       "      <td>793.0</td>\n",
       "      <td>1057.00</td>\n",
       "      <td>1097.0</td>\n",
       "      <td>1131.00</td>\n",
       "      <td>1216.0</td>\n",
       "    </tr>\n",
       "    <tr>\n",
       "      <th>v012</th>\n",
       "      <td>32428.0</td>\n",
       "      <td>24.704145</td>\n",
       "      <td>4.873898e+00</td>\n",
       "      <td>15.0</td>\n",
       "      <td>21.00</td>\n",
       "      <td>24.0</td>\n",
       "      <td>27.00</td>\n",
       "      <td>49.0</td>\n",
       "    </tr>\n",
       "  </tbody>\n",
       "</table>\n",
       "</div>"
      ],
      "text/plain": [
       "        count           mean           std      min        25%       50%  \\\n",
       "v001  32428.0  201979.690884  1.056895e+05  10004.0  120248.25  200047.0   \n",
       "v002  32428.0      50.251974  2.861007e+01      1.0      25.00      51.0   \n",
       "v003  32428.0       3.666091  2.291602e+00      1.0       2.00       3.0   \n",
       "v004  32428.0    1091.877883  1.280913e+03      1.0     311.00     669.0   \n",
       "v005  32428.0  959772.261934  1.052288e+06    782.0  392316.00  736465.0   \n",
       "v006  32428.0       4.887381  2.105131e+00      1.0       3.00       5.0   \n",
       "v007  32428.0    2015.479339  4.995806e-01   2015.0    2015.00    2015.0   \n",
       "v008  32428.0    1390.639447  6.211798e+00   1381.0    1385.00    1388.0   \n",
       "v009  32428.0       5.828235  3.273641e+00      1.0       3.00       6.0   \n",
       "v010  32428.0    1990.232053  4.862259e+00   1966.0    1988.00    1991.0   \n",
       "v011  32428.0    1088.612865  5.823103e+01    793.0    1057.00    1097.0   \n",
       "v012  32428.0      24.704145  4.873898e+00     15.0      21.00      24.0   \n",
       "\n",
       "             75%         max  \n",
       "v001   310194.25    360477.0  \n",
       "v002       75.00        99.0  \n",
       "v003        4.00        37.0  \n",
       "v004     1254.00      6305.0  \n",
       "v005  1230434.00  44810725.0  \n",
       "v006        6.00        12.0  \n",
       "v007     2016.00      2016.0  \n",
       "v008     1396.00      1404.0  \n",
       "v009        8.00        12.0  \n",
       "v010     1994.00      2001.0  \n",
       "v011     1131.00      1216.0  \n",
       "v012       27.00        49.0  "
      ]
     },
     "execution_count": 7,
     "metadata": {},
     "output_type": "execute_result"
    }
   ],
   "source": [
    "vkm_fhs.describe().transpose()"
   ]
  },
  {
   "cell_type": "code",
   "execution_count": 13,
   "metadata": {},
   "outputs": [
    {
     "name": "stdout",
     "output_type": "stream",
     "text": [
      "<class 'pandas.core.frame.DataFrame'>\n",
      "RangeIndex: 32428 entries, 0 to 32427\n",
      "Data columns (total 33 columns):\n",
      " #   Column  Non-Null Count  Dtype   \n",
      "---  ------  --------------  -----   \n",
      " 0   caseid  32428 non-null  object  \n",
      " 1   v000    32428 non-null  object  \n",
      " 2   v001    32428 non-null  int64   \n",
      " 3   v002    32428 non-null  int64   \n",
      " 4   v003    32428 non-null  int64   \n",
      " 5   v004    32428 non-null  int64   \n",
      " 6   v005    32428 non-null  int64   \n",
      " 7   v006    32428 non-null  int64   \n",
      " 8   v007    32428 non-null  int64   \n",
      " 9   v008    32428 non-null  int64   \n",
      " 10  v009    32428 non-null  int64   \n",
      " 11  v010    32428 non-null  int64   \n",
      " 12  v011    32428 non-null  int64   \n",
      " 13  v012    32428 non-null  int64   \n",
      " 14  v013    32428 non-null  category\n",
      " 15  v014    32428 non-null  category\n",
      " 16  v015    32428 non-null  category\n",
      " 17  v024    32428 non-null  category\n",
      " 18  v025    32428 non-null  category\n",
      " 19  v106    32428 non-null  category\n",
      " 20  v107    24279 non-null  category\n",
      " 21  v157    32428 non-null  category\n",
      " 22  v158    32428 non-null  category\n",
      " 23  v159    32428 non-null  category\n",
      " 24  v190    32428 non-null  category\n",
      " 25  v213    32428 non-null  category\n",
      " 26  v463c   32428 non-null  category\n",
      " 27  v463f   32428 non-null  category\n",
      " 28  v463g   32428 non-null  category\n",
      " 29  v463z   32428 non-null  category\n",
      " 30  s710c   32428 non-null  category\n",
      " 31  s710e   32428 non-null  category\n",
      " 32  s712    2677 non-null   category\n",
      "dtypes: category(19), int64(12), object(2)\n",
      "memory usage: 4.1+ MB\n"
     ]
    },
    {
     "data": {
      "text/plain": [
       "(32428, 33)"
      ]
     },
     "execution_count": 13,
     "metadata": {},
     "output_type": "execute_result"
    }
   ],
   "source": [
    "vkm_fhs.info()\n",
    "vkm_fhs.shape"
   ]
  },
  {
   "cell_type": "code",
   "execution_count": 23,
   "metadata": {},
   "outputs": [
    {
     "data": {
      "text/html": [
       "<div>\n",
       "<style scoped>\n",
       "    .dataframe tbody tr th:only-of-type {\n",
       "        vertical-align: middle;\n",
       "    }\n",
       "\n",
       "    .dataframe tbody tr th {\n",
       "        vertical-align: top;\n",
       "    }\n",
       "\n",
       "    .dataframe thead th {\n",
       "        text-align: right;\n",
       "    }\n",
       "</style>\n",
       "<table border=\"1\" class=\"dataframe\">\n",
       "  <thead>\n",
       "    <tr style=\"text-align: right;\">\n",
       "      <th>v463f</th>\n",
       "      <th>no</th>\n",
       "      <th>yes</th>\n",
       "    </tr>\n",
       "    <tr>\n",
       "      <th>v013</th>\n",
       "      <th></th>\n",
       "      <th></th>\n",
       "    </tr>\n",
       "  </thead>\n",
       "  <tbody>\n",
       "    <tr>\n",
       "      <th>15-19</th>\n",
       "      <td>3602</td>\n",
       "      <td>84</td>\n",
       "    </tr>\n",
       "    <tr>\n",
       "      <th>20-24</th>\n",
       "      <td>13443</td>\n",
       "      <td>292</td>\n",
       "    </tr>\n",
       "    <tr>\n",
       "      <th>25-29</th>\n",
       "      <td>9532</td>\n",
       "      <td>281</td>\n",
       "    </tr>\n",
       "    <tr>\n",
       "      <th>30-34</th>\n",
       "      <td>3509</td>\n",
       "      <td>145</td>\n",
       "    </tr>\n",
       "    <tr>\n",
       "      <th>35-39</th>\n",
       "      <td>1162</td>\n",
       "      <td>53</td>\n",
       "    </tr>\n",
       "    <tr>\n",
       "      <th>40-44</th>\n",
       "      <td>242</td>\n",
       "      <td>12</td>\n",
       "    </tr>\n",
       "    <tr>\n",
       "      <th>45-49</th>\n",
       "      <td>65</td>\n",
       "      <td>6</td>\n",
       "    </tr>\n",
       "  </tbody>\n",
       "</table>\n",
       "</div>"
      ],
      "text/plain": [
       "v463f     no  yes\n",
       "v013             \n",
       "15-19   3602   84\n",
       "20-24  13443  292\n",
       "25-29   9532  281\n",
       "30-34   3509  145\n",
       "35-39   1162   53\n",
       "40-44    242   12\n",
       "45-49     65    6"
      ]
     },
     "execution_count": 23,
     "metadata": {},
     "output_type": "execute_result"
    }
   ],
   "source": [
    "pd.crosstab(vkm_fhs['v012'],vkm_fhs['v463f'])\n",
    "\n",
    "pd.crosstab(vkm_fhs['v013'],vkm_fhs['v463f'])"
   ]
  },
  {
   "cell_type": "code",
   "execution_count": 15,
   "metadata": {},
   "outputs": [
    {
     "data": {
      "text/plain": [
       "no     31555\n",
       "yes      873\n",
       "Name: v463f, dtype: int64"
      ]
     },
     "execution_count": 15,
     "metadata": {},
     "output_type": "execute_result"
    }
   ],
   "source": [
    "vkm_fhs['v463f'].value_counts()"
   ]
  },
  {
   "cell_type": "code",
   "execution_count": 16,
   "metadata": {},
   "outputs": [],
   "source": [
    "#873,pregnant women used gutkha/paan masala with tobacco \n",
    "\n",
    "#31555,pregnant women used gutkha/paan masala with tobacco"
   ]
  },
  {
   "cell_type": "code",
   "execution_count": 21,
   "metadata": {},
   "outputs": [
    {
     "data": {
      "text/plain": [
       "24.704144566424077"
      ]
     },
     "execution_count": 21,
     "metadata": {},
     "output_type": "execute_result"
    }
   ],
   "source": [
    "avg=vkm_fhs['v012'].mean()\n",
    "\n",
    "avg"
   ]
  },
  {
   "cell_type": "code",
   "execution_count": 26,
   "metadata": {},
   "outputs": [
    {
     "data": {
      "image/png": "[encoded data removed]",
      "text/plain": [
       "<Figure size 720x720 with 1 Axes>"
      ]
     },
     "metadata": {},
     "output_type": "display_data"
    }
   ],
   "source": [
    "\n",
    "sns.set(style=\"whitegrid\")\n",
    "\n",
    "plt.figure(figsize=(10,10))\n",
    "\n",
    "boxplot_vkm=sns.boxplot(x='v463f', y='v012', data=vkm_fhs, orient='v')"
   ]
  },
  {
   "cell_type": "code",
   "execution_count": 27,
   "metadata": {},
   "outputs": [
    {
     "data": {
      "text/plain": [
       "<seaborn.axisgrid.PairGrid at 0x7ffbe7481190>"
      ]
     },
     "execution_count": 27,
     "metadata": {},
     "output_type": "execute_result"
    },
    {
     "data": {
      "image/png": "[encoded data removed]",
      "text/plain": [
       "<Figure size 180x180 with 2 Axes>"
      ]
     },
     "metadata": {},
     "output_type": "display_data"
    }
   ],
   "source": [
    "sns.pairplot(vkm_fhs[['v012', 'v463f']])"
   ]
  },
  {
   "cell_type": "code",
   "execution_count": 38,
   "metadata": {},
   "outputs": [
    {
     "data": {
      "image/png": "[encoded data removed]",
      "text/plain": [
       "<Figure size 432x864 with 7 Axes>"
      ]
     },
     "metadata": {},
     "output_type": "display_data"
    }
   ],
   "source": [
    "bins = np.linspace(vkm_fhs.v012.min(), vkm_fhs.v012.max(), 10)\n",
    "g = sns.FacetGrid(vkm_fhs, col=\"v013\", hue=\"v463f\", palette=\"Set1\", col_wrap=2)\n",
    "g.map(plt.hist, 'v012', bins=bins, ec=\"k\")\n",
    "\n",
    "g.axes[-1].legend()\n",
    "plt.show()"
   ]
  },
  {
   "cell_type": "code",
   "execution_count": null,
   "metadata": {},
   "outputs": [],
   "source": [
    "vkm_fhs['v463f'].replace(to_replace=['no','yes'], value=[0,1],inplace=True)\n",
    "vkm_fhs.head()"
   ]
  },
  {
   "cell_type": "code",
   "execution_count": 48,
   "metadata": {},
   "outputs": [
    {
     "data": {
      "text/plain": [
       "v106          v463f\n",
       "higher        0        0.992866\n",
       "              1        0.007134\n",
       "no education  0        0.953000\n",
       "              1        0.047000\n",
       "primary       0        0.964252\n",
       "              1        0.035748\n",
       "secondary     0        0.980776\n",
       "              1        0.019224\n",
       "Name: v463f, dtype: float64"
      ]
     },
     "execution_count": 48,
     "metadata": {},
     "output_type": "execute_result"
    }
   ],
   "source": [
    "vkm_fhs.groupby(['v106'])['v463f'].value_counts(normalize=True)"
   ]
  },
  {
   "cell_type": "code",
   "execution_count": 49,
   "metadata": {},
   "outputs": [],
   "source": [
    "#hot encoding to convert categorical variables into dichotomous/binary and appending them to featured data set"
   ]
  },
  {
   "cell_type": "code",
   "execution_count": 51,
   "metadata": {},
   "outputs": [
    {
     "data": {
      "text/html": [
       "<div>\n",
       "<style scoped>\n",
       "    .dataframe tbody tr th:only-of-type {\n",
       "        vertical-align: middle;\n",
       "    }\n",
       "\n",
       "    .dataframe tbody tr th {\n",
       "        vertical-align: top;\n",
       "    }\n",
       "\n",
       "    .dataframe thead th {\n",
       "        text-align: right;\n",
       "    }\n",
       "</style>\n",
       "<table border=\"1\" class=\"dataframe\">\n",
       "  <thead>\n",
       "    <tr style=\"text-align: right;\">\n",
       "      <th></th>\n",
       "      <th>v012</th>\n",
       "      <th>v106</th>\n",
       "      <th>v159</th>\n",
       "    </tr>\n",
       "  </thead>\n",
       "  <tbody>\n",
       "    <tr>\n",
       "      <th>0</th>\n",
       "      <td>22</td>\n",
       "      <td>secondary</td>\n",
       "      <td>less than once a week</td>\n",
       "    </tr>\n",
       "    <tr>\n",
       "      <th>1</th>\n",
       "      <td>26</td>\n",
       "      <td>secondary</td>\n",
       "      <td>not at all</td>\n",
       "    </tr>\n",
       "    <tr>\n",
       "      <th>2</th>\n",
       "      <td>37</td>\n",
       "      <td>secondary</td>\n",
       "      <td>almost every day</td>\n",
       "    </tr>\n",
       "    <tr>\n",
       "      <th>3</th>\n",
       "      <td>29</td>\n",
       "      <td>secondary</td>\n",
       "      <td>at least once a week</td>\n",
       "    </tr>\n",
       "    <tr>\n",
       "      <th>4</th>\n",
       "      <td>24</td>\n",
       "      <td>secondary</td>\n",
       "      <td>less than once a week</td>\n",
       "    </tr>\n",
       "  </tbody>\n",
       "</table>\n",
       "</div>"
      ],
      "text/plain": [
       "   v012       v106                   v159\n",
       "0    22  secondary  less than once a week\n",
       "1    26  secondary             not at all\n",
       "2    37  secondary       almost every day\n",
       "3    29  secondary   at least once a week\n",
       "4    24  secondary  less than once a week"
      ]
     },
     "execution_count": 51,
     "metadata": {},
     "output_type": "execute_result"
    }
   ],
   "source": [
    "vkm_fhs[['v012','v106','v159']].head()"
   ]
  },
  {
   "cell_type": "code",
   "execution_count": 53,
   "metadata": {},
   "outputs": [
    {
     "data": {
      "text/html": [
       "<div>\n",
       "<style scoped>\n",
       "    .dataframe tbody tr th:only-of-type {\n",
       "        vertical-align: middle;\n",
       "    }\n",
       "\n",
       "    .dataframe tbody tr th {\n",
       "        vertical-align: top;\n",
       "    }\n",
       "\n",
       "    .dataframe thead th {\n",
       "        text-align: right;\n",
       "    }\n",
       "</style>\n",
       "<table border=\"1\" class=\"dataframe\">\n",
       "  <thead>\n",
       "    <tr style=\"text-align: right;\">\n",
       "      <th></th>\n",
       "      <th>v012</th>\n",
       "      <th>v106</th>\n",
       "      <th>v159</th>\n",
       "      <th>higher</th>\n",
       "      <th>primary</th>\n",
       "      <th>secondary</th>\n",
       "      <th>almost every day</th>\n",
       "      <th>at least once a week</th>\n",
       "      <th>less than once a week</th>\n",
       "      <th>not at all</th>\n",
       "    </tr>\n",
       "  </thead>\n",
       "  <tbody>\n",
       "    <tr>\n",
       "      <th>0</th>\n",
       "      <td>22</td>\n",
       "      <td>secondary</td>\n",
       "      <td>less than once a week</td>\n",
       "      <td>0</td>\n",
       "      <td>0</td>\n",
       "      <td>1</td>\n",
       "      <td>0</td>\n",
       "      <td>0</td>\n",
       "      <td>1</td>\n",
       "      <td>0</td>\n",
       "    </tr>\n",
       "    <tr>\n",
       "      <th>1</th>\n",
       "      <td>26</td>\n",
       "      <td>secondary</td>\n",
       "      <td>not at all</td>\n",
       "      <td>0</td>\n",
       "      <td>0</td>\n",
       "      <td>1</td>\n",
       "      <td>0</td>\n",
       "      <td>0</td>\n",
       "      <td>0</td>\n",
       "      <td>1</td>\n",
       "    </tr>\n",
       "    <tr>\n",
       "      <th>2</th>\n",
       "      <td>37</td>\n",
       "      <td>secondary</td>\n",
       "      <td>almost every day</td>\n",
       "      <td>0</td>\n",
       "      <td>0</td>\n",
       "      <td>1</td>\n",
       "      <td>1</td>\n",
       "      <td>0</td>\n",
       "      <td>0</td>\n",
       "      <td>0</td>\n",
       "    </tr>\n",
       "    <tr>\n",
       "      <th>3</th>\n",
       "      <td>29</td>\n",
       "      <td>secondary</td>\n",
       "      <td>at least once a week</td>\n",
       "      <td>0</td>\n",
       "      <td>0</td>\n",
       "      <td>1</td>\n",
       "      <td>0</td>\n",
       "      <td>1</td>\n",
       "      <td>0</td>\n",
       "      <td>0</td>\n",
       "    </tr>\n",
       "    <tr>\n",
       "      <th>4</th>\n",
       "      <td>24</td>\n",
       "      <td>secondary</td>\n",
       "      <td>less than once a week</td>\n",
       "      <td>0</td>\n",
       "      <td>0</td>\n",
       "      <td>1</td>\n",
       "      <td>0</td>\n",
       "      <td>0</td>\n",
       "      <td>1</td>\n",
       "      <td>0</td>\n",
       "    </tr>\n",
       "  </tbody>\n",
       "</table>\n",
       "</div>"
      ],
      "text/plain": [
       "   v012       v106                   v159  higher  primary  secondary  \\\n",
       "0    22  secondary  less than once a week       0        0          1   \n",
       "1    26  secondary             not at all       0        0          1   \n",
       "2    37  secondary       almost every day       0        0          1   \n",
       "3    29  secondary   at least once a week       0        0          1   \n",
       "4    24  secondary  less than once a week       0        0          1   \n",
       "\n",
       "   almost every day  at least once a week  less than once a week  not at all  \n",
       "0                 0                     0                      1           0  \n",
       "1                 0                     0                      0           1  \n",
       "2                 1                     0                      0           0  \n",
       "3                 0                     1                      0           0  \n",
       "4                 0                     0                      1           0  "
      ]
     },
     "execution_count": 53,
     "metadata": {},
     "output_type": "execute_result"
    }
   ],
   "source": [
    "feature_vk = vkm_fhs[['v012','v106','v159']]\n",
    "feature_vk = pd.concat([feature_vk,pd.get_dummies(vkm_fhs['v106'])], axis=1)\n",
    "feature_vk = pd.concat([feature_vk,pd.get_dummies(vkm_fhs['v159'])], axis=1)\n",
    "feature_vk.drop(['no education'], axis = 1,inplace=True)\n",
    "feature_vk.head()"
   ]
  },
  {
   "cell_type": "code",
   "execution_count": 54,
   "metadata": {},
   "outputs": [],
   "source": [
    "feature_vk.drop(['v106', 'v159'], axis = 1,inplace=True)"
   ]
  },
  {
   "cell_type": "code",
   "execution_count": 55,
   "metadata": {},
   "outputs": [
    {
     "data": {
      "text/html": [
       "<div>\n",
       "<style scoped>\n",
       "    .dataframe tbody tr th:only-of-type {\n",
       "        vertical-align: middle;\n",
       "    }\n",
       "\n",
       "    .dataframe tbody tr th {\n",
       "        vertical-align: top;\n",
       "    }\n",
       "\n",
       "    .dataframe thead th {\n",
       "        text-align: right;\n",
       "    }\n",
       "</style>\n",
       "<table border=\"1\" class=\"dataframe\">\n",
       "  <thead>\n",
       "    <tr style=\"text-align: right;\">\n",
       "      <th></th>\n",
       "      <th>v012</th>\n",
       "      <th>higher</th>\n",
       "      <th>primary</th>\n",
       "      <th>secondary</th>\n",
       "      <th>almost every day</th>\n",
       "      <th>at least once a week</th>\n",
       "      <th>less than once a week</th>\n",
       "      <th>not at all</th>\n",
       "    </tr>\n",
       "  </thead>\n",
       "  <tbody>\n",
       "    <tr>\n",
       "      <th>0</th>\n",
       "      <td>22</td>\n",
       "      <td>0</td>\n",
       "      <td>0</td>\n",
       "      <td>1</td>\n",
       "      <td>0</td>\n",
       "      <td>0</td>\n",
       "      <td>1</td>\n",
       "      <td>0</td>\n",
       "    </tr>\n",
       "    <tr>\n",
       "      <th>1</th>\n",
       "      <td>26</td>\n",
       "      <td>0</td>\n",
       "      <td>0</td>\n",
       "      <td>1</td>\n",
       "      <td>0</td>\n",
       "      <td>0</td>\n",
       "      <td>0</td>\n",
       "      <td>1</td>\n",
       "    </tr>\n",
       "    <tr>\n",
       "      <th>2</th>\n",
       "      <td>37</td>\n",
       "      <td>0</td>\n",
       "      <td>0</td>\n",
       "      <td>1</td>\n",
       "      <td>1</td>\n",
       "      <td>0</td>\n",
       "      <td>0</td>\n",
       "      <td>0</td>\n",
       "    </tr>\n",
       "    <tr>\n",
       "      <th>3</th>\n",
       "      <td>29</td>\n",
       "      <td>0</td>\n",
       "      <td>0</td>\n",
       "      <td>1</td>\n",
       "      <td>0</td>\n",
       "      <td>1</td>\n",
       "      <td>0</td>\n",
       "      <td>0</td>\n",
       "    </tr>\n",
       "    <tr>\n",
       "      <th>4</th>\n",
       "      <td>24</td>\n",
       "      <td>0</td>\n",
       "      <td>0</td>\n",
       "      <td>1</td>\n",
       "      <td>0</td>\n",
       "      <td>0</td>\n",
       "      <td>1</td>\n",
       "      <td>0</td>\n",
       "    </tr>\n",
       "  </tbody>\n",
       "</table>\n",
       "</div>"
      ],
      "text/plain": [
       "   v012  higher  primary  secondary  almost every day  at least once a week  \\\n",
       "0    22       0        0          1                 0                     0   \n",
       "1    26       0        0          1                 0                     0   \n",
       "2    37       0        0          1                 1                     0   \n",
       "3    29       0        0          1                 0                     1   \n",
       "4    24       0        0          1                 0                     0   \n",
       "\n",
       "   less than once a week  not at all  \n",
       "0                      1           0  \n",
       "1                      0           1  \n",
       "2                      0           0  \n",
       "3                      0           0  \n",
       "4                      1           0  "
      ]
     },
     "execution_count": 55,
     "metadata": {},
     "output_type": "execute_result"
    }
   ],
   "source": [
    "feature_vk.head()"
   ]
  },
  {
   "cell_type": "code",
   "execution_count": 56,
   "metadata": {},
   "outputs": [],
   "source": [
    "#define feature data set"
   ]
  },
  {
   "cell_type": "code",
   "execution_count": 57,
   "metadata": {},
   "outputs": [
    {
     "data": {
      "text/html": [
       "<div>\n",
       "<style scoped>\n",
       "    .dataframe tbody tr th:only-of-type {\n",
       "        vertical-align: middle;\n",
       "    }\n",
       "\n",
       "    .dataframe tbody tr th {\n",
       "        vertical-align: top;\n",
       "    }\n",
       "\n",
       "    .dataframe thead th {\n",
       "        text-align: right;\n",
       "    }\n",
       "</style>\n",
       "<table border=\"1\" class=\"dataframe\">\n",
       "  <thead>\n",
       "    <tr style=\"text-align: right;\">\n",
       "      <th></th>\n",
       "      <th>v012</th>\n",
       "      <th>higher</th>\n",
       "      <th>primary</th>\n",
       "      <th>secondary</th>\n",
       "      <th>almost every day</th>\n",
       "      <th>at least once a week</th>\n",
       "      <th>less than once a week</th>\n",
       "      <th>not at all</th>\n",
       "    </tr>\n",
       "  </thead>\n",
       "  <tbody>\n",
       "    <tr>\n",
       "      <th>0</th>\n",
       "      <td>22</td>\n",
       "      <td>0</td>\n",
       "      <td>0</td>\n",
       "      <td>1</td>\n",
       "      <td>0</td>\n",
       "      <td>0</td>\n",
       "      <td>1</td>\n",
       "      <td>0</td>\n",
       "    </tr>\n",
       "    <tr>\n",
       "      <th>1</th>\n",
       "      <td>26</td>\n",
       "      <td>0</td>\n",
       "      <td>0</td>\n",
       "      <td>1</td>\n",
       "      <td>0</td>\n",
       "      <td>0</td>\n",
       "      <td>0</td>\n",
       "      <td>1</td>\n",
       "    </tr>\n",
       "    <tr>\n",
       "      <th>2</th>\n",
       "      <td>37</td>\n",
       "      <td>0</td>\n",
       "      <td>0</td>\n",
       "      <td>1</td>\n",
       "      <td>1</td>\n",
       "      <td>0</td>\n",
       "      <td>0</td>\n",
       "      <td>0</td>\n",
       "    </tr>\n",
       "    <tr>\n",
       "      <th>3</th>\n",
       "      <td>29</td>\n",
       "      <td>0</td>\n",
       "      <td>0</td>\n",
       "      <td>1</td>\n",
       "      <td>0</td>\n",
       "      <td>1</td>\n",
       "      <td>0</td>\n",
       "      <td>0</td>\n",
       "    </tr>\n",
       "    <tr>\n",
       "      <th>4</th>\n",
       "      <td>24</td>\n",
       "      <td>0</td>\n",
       "      <td>0</td>\n",
       "      <td>1</td>\n",
       "      <td>0</td>\n",
       "      <td>0</td>\n",
       "      <td>1</td>\n",
       "      <td>0</td>\n",
       "    </tr>\n",
       "  </tbody>\n",
       "</table>\n",
       "</div>"
      ],
      "text/plain": [
       "   v012  higher  primary  secondary  almost every day  at least once a week  \\\n",
       "0    22       0        0          1                 0                     0   \n",
       "1    26       0        0          1                 0                     0   \n",
       "2    37       0        0          1                 1                     0   \n",
       "3    29       0        0          1                 0                     1   \n",
       "4    24       0        0          1                 0                     0   \n",
       "\n",
       "   less than once a week  not at all  \n",
       "0                      1           0  \n",
       "1                      0           1  \n",
       "2                      0           0  \n",
       "3                      0           0  \n",
       "4                      1           0  "
      ]
     },
     "execution_count": 57,
     "metadata": {},
     "output_type": "execute_result"
    }
   ],
   "source": [
    "vkm=feature_vk\n",
    "vkm[0:5]"
   ]
  },
  {
   "cell_type": "code",
   "execution_count": 58,
   "metadata": {},
   "outputs": [
    {
     "data": {
      "text/plain": [
       "array([0, 0, 0, 0, 0])"
      ]
     },
     "execution_count": 58,
     "metadata": {},
     "output_type": "execute_result"
    }
   ],
   "source": [
    "vk=vkm_fhs['v463f'].values\n",
    "vk[0:5]"
   ]
  },
  {
   "cell_type": "code",
   "execution_count": 59,
   "metadata": {},
   "outputs": [
    {
     "data": {
      "text/plain": [
       "array([[-0.55483029, -0.37108598, -0.38994029,  1.00867211, -0.99901368,\n",
       "        -0.35690538,  3.33370064, -0.66238253],\n",
       "       [ 0.2658807 , -0.37108598, -0.38994029,  1.00867211, -0.99901368,\n",
       "        -0.35690538, -0.29996695,  1.50970166],\n",
       "       [ 2.52283591, -0.37108598, -0.38994029,  1.00867211,  1.00098729,\n",
       "        -0.35690538, -0.29996695, -0.66238253],\n",
       "       [ 0.88141394, -0.37108598, -0.38994029,  1.00867211, -0.99901368,\n",
       "         2.80186307, -0.29996695, -0.66238253],\n",
       "       [-0.1444748 , -0.37108598, -0.38994029,  1.00867211, -0.99901368,\n",
       "        -0.35690538,  3.33370064, -0.66238253]])"
      ]
     },
     "execution_count": 59,
     "metadata": {},
     "output_type": "execute_result"
    }
   ],
   "source": [
    "#normalize the data set\n",
    "#data standardization provides data zero mean and unit variance (ideally should be performed after train test split)\n",
    "\n",
    "vkm=preprocessing.StandardScaler().fit(vkm).transform(vkm)\n",
    "vkm[0:5]"
   ]
  },
  {
   "cell_type": "code",
   "execution_count": 60,
   "metadata": {},
   "outputs": [],
   "source": [
    "# train test splitting of data"
   ]
  },
  {
   "cell_type": "code",
   "execution_count": 61,
   "metadata": {},
   "outputs": [
    {
     "name": "stdout",
     "output_type": "stream",
     "text": [
      "Train set: (25942, 8) (25942,)\n",
      "Test set: (6486, 8) (6486,)\n"
     ]
    },
    {
     "data": {
      "text/plain": [
       "((25942, 8), (25942,))"
      ]
     },
     "execution_count": 61,
     "metadata": {},
     "output_type": "execute_result"
    }
   ],
   "source": [
    "from sklearn.model_selection import train_test_split\n",
    "\n",
    "vkm_train, vkm_test, vk_train, vk_test = train_test_split( vkm, vk, test_size=0.2, random_state=4)\n",
    "print ('Train set:', vkm_train.shape,  vk_train.shape)\n",
    "print ('Test set:', vkm_test.shape,  vk_test.shape)\n",
    "\n",
    "vkm_train.shape, vk_train.shape"
   ]
  },
  {
   "cell_type": "code",
   "execution_count": 62,
   "metadata": {},
   "outputs": [],
   "source": [
    "# train data set"
   ]
  },
  {
   "cell_type": "code",
   "execution_count": 64,
   "metadata": {},
   "outputs": [
    {
     "name": "stdout",
     "output_type": "stream",
     "text": [
      "[0.94588344 0.96793093 0.9666975  0.96916435 0.96916435 0.96916435]\n",
      "Best Accuracy K is  4\n",
      "Max Accuracy is 0.9691643539932162\n"
     ]
    }
   ],
   "source": [
    "from sklearn.neighbors import KNeighborsClassifier\n",
    "from sklearn import metrics\n",
    "\n",
    "Ks = 7\n",
    "mean_acc = np.zeros((Ks-1))\n",
    "std_acc = np.zeros((Ks-1))\n",
    "ConfustionMtx=[];\n",
    "\n",
    "for n in range(1, Ks):\n",
    "  neigh = KNeighborsClassifier(n_neighbors=n).fit(vkm_train, vk_train)\n",
    "  yhat = neigh.predict(vkm_test)\n",
    "  mean_acc[n-1] = metrics.accuracy_score(vk_test, yhat)\n",
    "  std_acc[n-1] = np.std(yhat==vk_test)/np.sqrt(yhat.shape[0])\n",
    "\n",
    "print(mean_acc)\n",
    "bestK = mean_acc.argmax()+1\n",
    "print('Best Accuracy K is ', bestK)\n",
    "print('Max Accuracy is', mean_acc.max())"
   ]
  },
  {
   "cell_type": "code",
   "execution_count": 65,
   "metadata": {},
   "outputs": [
    {
     "data": {
      "image/png": "[encoded data removed]",
      "text/plain": [
       "<Figure size 432x288 with 1 Axes>"
      ]
     },
     "metadata": {},
     "output_type": "display_data"
    },
    {
     "name": "stdout",
     "output_type": "stream",
     "text": [
      "The best accuracy was with 0.9691643539932162 with k= 4\n"
     ]
    }
   ],
   "source": [
    "plt.plot(range(1,Ks),mean_acc)\n",
    "plt.fill_between(range(1,Ks),mean_acc - 1 * std_acc,mean_acc + 1 * std_acc, alpha=0.10)\n",
    "plt.legend(('Accuracy ', '+/- 3xstd'))\n",
    "plt.ylabel('Accuracy ')\n",
    "plt.xlabel('Number of Neighbors (K)')\n",
    "plt.tight_layout()\n",
    "plt.show()\n",
    "print( \"The best accuracy was with\", mean_acc.max(), \"with k=\", mean_acc.argmax()+1)\n",
    "neigh = KNeighborsClassifier(n_neighbors=mean_acc.argmax()+1).fit(vkm_train, vk_train)"
   ]
  },
  {
   "cell_type": "code",
   "execution_count": 66,
   "metadata": {},
   "outputs": [
    {
     "name": "stdout",
     "output_type": "stream",
     "text": [
      "F1-SCORE::  0.9539879626059126\n",
      "JACCARD SIMILARITY SCORE::  0.9691643539932162\n"
     ]
    },
    {
     "name": "stderr",
     "output_type": "stream",
     "text": [
      "/Users/vijaykumar_matrix_010101/opt/anaconda3/lib/python3.7/site-packages/sklearn/metrics/_classification.py:664: FutureWarning: jaccard_similarity_score has been deprecated and replaced with jaccard_score. It will be removed in version 0.23. This implementation has surprising behavior for binary and multiclass classification tasks.\n",
      "  FutureWarning)\n"
     ]
    }
   ],
   "source": [
    "# f1 & Jaccard similarity score__ k=4\n",
    "from sklearn.metrics import f1_score\n",
    "from sklearn.metrics import jaccard_similarity_score\n",
    "neigh = KNeighborsClassifier(n_neighbors = 7).fit(vkm_train,vk_train)\n",
    "yhat=neigh.predict(vkm_test)\n",
    "print(\"F1-SCORE:: \",f1_score( vk_test, yhat, average='weighted'))\n",
    "print(\"JACCARD SIMILARITY SCORE:: \",jaccard_similarity_score(vk_test, yhat))"
   ]
  },
  {
   "cell_type": "code",
   "execution_count": 84,
   "metadata": {},
   "outputs": [
    {
     "name": "stdout",
     "output_type": "stream",
     "text": [
      "vkm_train.shape is (25942, 8) vk_train.shape is (25942,)\n"
     ]
    }
   ],
   "source": [
    "#spliting data into train and test_for Decision_Tree____vkm\n",
    "\n",
    "from sklearn.tree import DecisionTreeClassifier\n",
    "from sklearn.model_selection import train_test_split\n",
    "\n",
    "# Split data\n",
    "vkm_train, vkm_test, vk_train, vk_test = train_test_split(vkm, vk, test_size=0.2, random_state=2)\n",
    "\n",
    "print('vkm_train.shape is', vkm_train.shape, 'vk_train.shape is', vk_train.shape)"
   ]
  },
  {
   "cell_type": "code",
   "execution_count": 93,
   "metadata": {},
   "outputs": [
    {
     "data": {
      "text/plain": [
       "DecisionTreeClassifier(ccp_alpha=0.0, class_weight=None, criterion='entropy',\n",
       "                       max_depth=None, max_features=None, max_leaf_nodes=None,\n",
       "                       min_impurity_decrease=0.0, min_impurity_split=None,\n",
       "                       min_samples_leaf=1, min_samples_split=2,\n",
       "                       min_weight_fraction_leaf=0.0, presort='deprecated',\n",
       "                       random_state=None, splitter='best')"
      ]
     },
     "execution_count": 93,
     "metadata": {},
     "output_type": "execute_result"
    }
   ],
   "source": [
    "#tree load___vkm\n",
    "\n",
    "tobaccoTree = DecisionTreeClassifier(criterion=\"entropy\")\n",
    "tobaccoTree "
   ]
  },
  {
   "cell_type": "code",
   "execution_count": 94,
   "metadata": {},
   "outputs": [],
   "source": [
    "#model fit___vkm\n",
    "tobaccoTree.fit(vkm_train,vk_train)\n",
    "predTree = loanTree.predict(vkm_test)"
   ]
  },
  {
   "cell_type": "code",
   "execution_count": 87,
   "metadata": {},
   "outputs": [
    {
     "name": "stdout",
     "output_type": "stream",
     "text": [
      "DecisionTree's Accuracy:  0.9736355226641998\n"
     ]
    }
   ],
   "source": [
    "#Decision accuracy___vkm\n",
    "\n",
    "from sklearn import metrics\n",
    "import matplotlib.pyplot as plt\n",
    "print(\"DecisionTree's Accuracy: \", metrics.accuracy_score(vk_test, predTree))"
   ]
  },
  {
   "cell_type": "code",
   "execution_count": 88,
   "metadata": {},
   "outputs": [
    {
     "name": "stdout",
     "output_type": "stream",
     "text": [
      "Decision Tree's jaccard_similarity_score is 0.9736355226641998\n"
     ]
    },
    {
     "name": "stderr",
     "output_type": "stream",
     "text": [
      "/Users/vijaykumar_matrix_010101/opt/anaconda3/lib/python3.7/site-packages/sklearn/metrics/_classification.py:664: FutureWarning: jaccard_similarity_score has been deprecated and replaced with jaccard_score. It will be removed in version 0.23. This implementation has surprising behavior for binary and multiclass classification tasks.\n",
      "  FutureWarning)\n"
     ]
    }
   ],
   "source": [
    "#similarity score___vkm\n",
    "from sklearn.metrics import jaccard_similarity_score\n",
    "print(\"Decision Tree's jaccard_similarity_score is\" ,jaccard_similarity_score( vk_test,predTree))"
   ]
  },
  {
   "cell_type": "code",
   "execution_count": 95,
   "metadata": {},
   "outputs": [
    {
     "name": "stdout",
     "output_type": "stream",
     "text": [
      "Decision Tree's fi_score is 0.9606293767087606\n"
     ]
    }
   ],
   "source": [
    "#fi_ score___vkm\n",
    "from sklearn.metrics import f1_score\n",
    "print(\"Decision Tree's fi_score is\" ,f1_score( vk_test, predTree, average='weighted'))"
   ]
  },
  {
   "cell_type": "code",
   "execution_count": 73,
   "metadata": {},
   "outputs": [
    {
     "name": "stdout",
     "output_type": "stream",
     "text": [
      "Collecting package metadata (current_repodata.json): done\n",
      "Solving environment: done\n",
      "\n",
      "\n",
      "==> WARNING: A newer version of conda exists. <==\n",
      "  current version: 4.8.3\n",
      "  latest version: 4.10.1\n",
      "\n",
      "Please update conda by running\n",
      "\n",
      "    $ conda update -n base -c defaults conda\n",
      "\n",
      "\n",
      "\n",
      "## Package Plan ##\n",
      "\n",
      "  environment location: /Users/vijaykumar_matrix_010101/opt/anaconda3\n",
      "\n",
      "  added / updated specs:\n",
      "    - pydotplus\n",
      "\n",
      "\n",
      "The following packages will be downloaded:\n",
      "\n",
      "    package                    |            build\n",
      "    ---------------------------|-----------------\n",
      "    conda-4.10.1               |   py37hf985489_0         3.0 MB  conda-forge\n",
      "    pydotplus-2.0.2            |             py_1          22 KB  conda-forge\n",
      "    python_abi-3.7             |          2_cp37m           4 KB  conda-forge\n",
      "    ------------------------------------------------------------\n",
      "                                           Total:         3.1 MB\n",
      "\n",
      "The following NEW packages will be INSTALLED:\n",
      "\n",
      "  pydotplus          conda-forge/noarch::pydotplus-2.0.2-py_1\n",
      "  python_abi         conda-forge/osx-64::python_abi-3.7-2_cp37m\n",
      "\n",
      "The following packages will be UPDATED:\n",
      "\n",
      "  conda                       pkgs/main::conda-4.8.3-py37_0 --> conda-forge::conda-4.10.1-py37hf985489_0\n",
      "\n",
      "\n",
      "\n",
      "Downloading and Extracting Packages\n",
      "python_abi-3.7       | 4 KB      | ##################################### | 100% \n",
      "pydotplus-2.0.2      | 22 KB     | ##################################### | 100% \n",
      "conda-4.10.1         | 3.0 MB    | ##################################### | 100% \n",
      "Preparing transaction: done\n",
      "Verifying transaction: done\n",
      "Executing transaction: done\n",
      "Collecting package metadata (current_repodata.json): done\n",
      "Solving environment: failed with initial frozen solve. Retrying with flexible solve.\n",
      "Solving environment: failed with repodata from current_repodata.json, will retry with next repodata source.\n",
      "Collecting package metadata (repodata.json): done\n",
      "Solving environment: done\n",
      "\n",
      "## Package Plan ##\n",
      "\n",
      "  environment location: /Users/vijaykumar_matrix_010101/opt/anaconda3\n",
      "\n",
      "  added / updated specs:\n",
      "    - python-graphviz\n",
      "\n",
      "\n",
      "The following packages will be downloaded:\n",
      "\n",
      "    package                    |            build\n",
      "    ---------------------------|-----------------\n",
      "    cairo-1.16.0               |    h0ab9d94_1001         1.3 MB  conda-forge\n",
      "    certifi-2019.11.28         |           py37_0         148 KB  conda-forge\n",
      "    fontconfig-2.13.1          |    h1027ab8_1000         269 KB  conda-forge\n",
      "    fribidi-1.0.10             |       hbcb3906_0          64 KB  conda-forge\n",
      "    graphite2-1.3.13           |    h2098e52_1000          84 KB  conda-forge\n",
      "    graphviz-2.40.1            |       hefbbd9a_2         6.3 MB\n",
      "    harfbuzz-1.8.8             |       hb8d4a28_0         414 KB\n",
      "    pango-1.42.4               |       h7e27002_1         456 KB\n",
      "    pixman-0.38.0              |    h01d97ff_1003         611 KB  conda-forge\n",
      "    python-graphviz-0.16       |     pyhd3deb0d_1          20 KB  conda-forge\n",
      "    ------------------------------------------------------------\n",
      "                                           Total:         9.7 MB\n",
      "\n",
      "The following NEW packages will be INSTALLED:\n",
      "\n",
      "  cairo              conda-forge/osx-64::cairo-1.16.0-h0ab9d94_1001\n",
      "  fontconfig         conda-forge/osx-64::fontconfig-2.13.1-h1027ab8_1000\n",
      "  fribidi            conda-forge/osx-64::fribidi-1.0.10-hbcb3906_0\n",
      "  graphite2          conda-forge/osx-64::graphite2-1.3.13-h2098e52_1000\n",
      "  graphviz           pkgs/main/osx-64::graphviz-2.40.1-hefbbd9a_2\n",
      "  harfbuzz           pkgs/main/osx-64::harfbuzz-1.8.8-hb8d4a28_0\n",
      "  pango              pkgs/main/osx-64::pango-1.42.4-h7e27002_1\n",
      "  pixman             conda-forge/osx-64::pixman-0.38.0-h01d97ff_1003\n",
      "  python-graphviz    conda-forge/noarch::python-graphviz-0.16-pyhd3deb0d_1\n",
      "\n",
      "The following packages will be SUPERSEDED by a higher-priority channel:\n",
      "\n",
      "  certifi                                         pkgs/main --> conda-forge\n",
      "\n",
      "\n",
      "\n",
      "Downloading and Extracting Packages\n",
      "fontconfig-2.13.1    | 269 KB    | ##################################### | 100% \n",
      "pango-1.42.4         | 456 KB    | ##################################### | 100% \n",
      "graphviz-2.40.1      | 6.3 MB    | ##################################### | 100% \n",
      "python-graphviz-0.16 | 20 KB     | ##################################### | 100% \n",
      "fribidi-1.0.10       | 64 KB     | ##################################### | 100% \n",
      "pixman-0.38.0        | 611 KB    | ##################################### | 100% \n",
      "certifi-2019.11.28   | 148 KB    | ##################################### | 100% \n",
      "graphite2-1.3.13     | 84 KB     | ##################################### | 100% \n",
      "cairo-1.16.0         | 1.3 MB    | ##################################### | 100% \n",
      "harfbuzz-1.8.8       | 414 KB    | ##################################### | 100% \n",
      "Preparing transaction: done\n",
      "Verifying transaction: done\n",
      "Executing transaction: done\n"
     ]
    }
   ],
   "source": [
    "!conda install -c conda-forge pydotplus -y\n",
    "!conda install -c conda-forge python-graphviz -y"
   ]
  },
  {
   "cell_type": "code",
   "execution_count": null,
   "metadata": {},
   "outputs": [],
   "source": [
    "##visualization_DT___vkm###\n",
    "from sklearn.externals.six import StringIO\n",
    "import pydotplus\n",
    "import matplotlib.image as mpimg\n",
    "from sklearn import tree\n",
    "%matplotlib inline\n",
    "\n",
    "dot_data = StringIO()\n",
    "filename = \"Dtree.png\"\n",
    "featureNames = feature_vk.columns[:]\n",
    "targetNames = vkm_fhs[\"v463f\"].unique().tolist()\n",
    "out=tree.export_graphviz(tobaccoTree, feature_names=featureNames, out_file=dot_data, class_names= np.unique(vk_train), filled=True, special_characters=True,rotate=False)\n",
    "graph = pydotplus.graph_from_dot_data(dot_data.getvalue())\n",
    "graph.write_png(filename)\n",
    "img = mpimg.imread(filename)\n",
    "plt.figure(figsize=(100, 200))\n",
    "plt.imshow(img,interpolation='nearest')"
   ]
  }
 ],
 "metadata": {
  "kernelspec": {
   "display_name": "Python 3",
   "language": "python",
   "name": "python3"
  },
  "language_info": {
   "codemirror_mode": {
    "name": "ipython",
    "version": 3
   },
   "file_extension": ".py",
   "mimetype": "text/x-python",
   "name": "python",
   "nbconvert_exporter": "python",
   "pygments_lexer": "ipython3",
   "version": "3.7.6"
  }
 },
 "nbformat": 4,
 "nbformat_minor": 4
}
